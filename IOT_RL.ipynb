{
  "nbformat": 4,
  "nbformat_minor": 0,
  "metadata": {
    "colab": {
      "name": "IOT_RL.ipynb",
      "provenance": [],
      "collapsed_sections": []
    },
    "kernelspec": {
      "name": "python3",
      "display_name": "Python 3"
    },
    "language_info": {
      "name": "python"
    }
  },
  "cells": [
    {
      "cell_type": "markdown",
      "metadata": {
        "id": "h4nN8VPRIwMX"
      },
      "source": [
        "Libraries"
      ]
    },
    {
      "cell_type": "code",
      "metadata": {
        "id": "a-b7wzxkEOwi"
      },
      "source": [
        "import pandas as pd\n",
        "import numpy as np\n",
        "import random\n",
        "import ast"
      ],
      "execution_count": 1,
      "outputs": []
    },
    {
      "cell_type": "markdown",
      "metadata": {
        "id": "I0V_688rIxyv"
      },
      "source": [
        "Utility functions"
      ]
    },
    {
      "cell_type": "code",
      "metadata": {
        "id": "HVM0nzzpI0p-"
      },
      "source": [
        "def choose_best_action(table,state):\n",
        "  for action in table.columns:\n",
        "    if table.loc[state,action] == max(table.loc[state]):\n",
        "      return action\n",
        "\n",
        "############################################################\n",
        "\n",
        "def epsilon_greedy_action(table,state,epsilon = 0.1):\n",
        "  seed = random.uniform(0,1)\n",
        "  if seed < epsilon:\n",
        "    return random.sample(set(Qtable.columns),1)[0]\n",
        "  else:\n",
        "    return choose_best_action(table,state)\n",
        "\n",
        "############################################################\n",
        "\n",
        "def state_transition(state,action):\n",
        "    newstate = ast.literal_eval(state)\n",
        "    x = newstate[0]\n",
        "    y = newstate[1]\n",
        "\n",
        "    if action == '+SR':\n",
        "      return '[{},{}]'.format(x,max(y//2,250))\n",
        "\n",
        "    elif action == '=SR':\n",
        "      return state\n",
        "\n",
        "    elif action == '-SR':\n",
        "      return '[{},{}]'.format(x,min(y*2,1000))\n",
        "\n",
        "    else:\n",
        "      print('Wrong action')\n",
        "      return state\n",
        "\n",
        "############################################################\n",
        "\n",
        "def update_state_based_on_quality(state,curr_obs,prev_obs,th=0.2):\n",
        "\n",
        "   newstate = ast.literal_eval(state)\n",
        "   x = newstate[0]\n",
        "   y = newstate[1]\n",
        "\n",
        "   quality_error = np.abs(curr_obs - prev_obs)\n",
        "   if quality_error > th:\n",
        "     q = 0\n",
        "   elif quality_error <= th and quality_error >= th/2:\n",
        "     q = 1\n",
        "   else:\n",
        "     q = 2\n",
        "\n",
        "   return '[{},{}]'.format(q,y) \n",
        "\n",
        "############################################################\n",
        "\n",
        "def compute_reward(state):\n",
        "\n",
        "   SR_0 = 250\n",
        "   list_state = ast.literal_eval(state)\n",
        "   q = list_state[0]\n",
        "   SR = list_state[1]\n",
        "\n",
        "   if q == 0:\n",
        "     k = -1\n",
        "   elif q == 1:\n",
        "     k = 1.5\n",
        "   else:\n",
        "     k = 1\n",
        "\n",
        "   return k*(SR//SR_0)\n",
        "\n",
        "############################################################\n",
        "\n",
        "def update_prev_Qtable_cell(Qtable,state,action,learning_rate=0.9,discount_factor=0.2):\n",
        "\n",
        "  future_state = state_transition(state,action)\n",
        "\n",
        "  contr1 = (1-learning_rate)*Qtable.loc[state,action]\n",
        "\n",
        "  contr2 = learning_rate*compute_reward(future_state)\n",
        "\n",
        "  contr3 = learning_rate*discount_factor*max([ Qtable.loc[future_state,future_action] for future_action in actions])\n",
        "\n",
        "  return contr1 + contr2 + contr3\n"
      ],
      "execution_count": 2,
      "outputs": []
    },
    {
      "cell_type": "markdown",
      "metadata": {
        "id": "0bw0urmTGygX"
      },
      "source": [
        "Quality state:\n",
        "\n",
        "- 0 --> low quality\n",
        "- 1 --> perfect quality\n",
        "- 2 --> too high quality "
      ]
    },
    {
      "cell_type": "code",
      "metadata": {
        "colab": {
          "base_uri": "https://localhost:8080/",
          "height": 326
        },
        "id": "ZG71E3SVEdYq",
        "outputId": "f1407b1c-5ef8-4f56-9122-c35ad10320a9"
      },
      "source": [
        "states = [\n",
        "          '[0,250]','[1,250]','[2,250]',\n",
        "          '[0,500]','[1,500]','[2,500]',\n",
        "          '[0,1000]','[1,1000]','[2,1000]'\n",
        "          ]\n",
        "\n",
        "      \n",
        "actions = ['+SR','=SR','-SR']\n",
        "\n",
        "Qtable = pd.DataFrame(data=0, index=states, columns=actions)\n",
        "\n",
        "Qtable"
      ],
      "execution_count": 3,
      "outputs": [
        {
          "output_type": "execute_result",
          "data": {
            "text/html": [
              "<div>\n",
              "<style scoped>\n",
              "    .dataframe tbody tr th:only-of-type {\n",
              "        vertical-align: middle;\n",
              "    }\n",
              "\n",
              "    .dataframe tbody tr th {\n",
              "        vertical-align: top;\n",
              "    }\n",
              "\n",
              "    .dataframe thead th {\n",
              "        text-align: right;\n",
              "    }\n",
              "</style>\n",
              "<table border=\"1\" class=\"dataframe\">\n",
              "  <thead>\n",
              "    <tr style=\"text-align: right;\">\n",
              "      <th></th>\n",
              "      <th>+SR</th>\n",
              "      <th>=SR</th>\n",
              "      <th>-SR</th>\n",
              "    </tr>\n",
              "  </thead>\n",
              "  <tbody>\n",
              "    <tr>\n",
              "      <th>[0,250]</th>\n",
              "      <td>0</td>\n",
              "      <td>0</td>\n",
              "      <td>0</td>\n",
              "    </tr>\n",
              "    <tr>\n",
              "      <th>[1,250]</th>\n",
              "      <td>0</td>\n",
              "      <td>0</td>\n",
              "      <td>0</td>\n",
              "    </tr>\n",
              "    <tr>\n",
              "      <th>[2,250]</th>\n",
              "      <td>0</td>\n",
              "      <td>0</td>\n",
              "      <td>0</td>\n",
              "    </tr>\n",
              "    <tr>\n",
              "      <th>[0,500]</th>\n",
              "      <td>0</td>\n",
              "      <td>0</td>\n",
              "      <td>0</td>\n",
              "    </tr>\n",
              "    <tr>\n",
              "      <th>[1,500]</th>\n",
              "      <td>0</td>\n",
              "      <td>0</td>\n",
              "      <td>0</td>\n",
              "    </tr>\n",
              "    <tr>\n",
              "      <th>[2,500]</th>\n",
              "      <td>0</td>\n",
              "      <td>0</td>\n",
              "      <td>0</td>\n",
              "    </tr>\n",
              "    <tr>\n",
              "      <th>[0,1000]</th>\n",
              "      <td>0</td>\n",
              "      <td>0</td>\n",
              "      <td>0</td>\n",
              "    </tr>\n",
              "    <tr>\n",
              "      <th>[1,1000]</th>\n",
              "      <td>0</td>\n",
              "      <td>0</td>\n",
              "      <td>0</td>\n",
              "    </tr>\n",
              "    <tr>\n",
              "      <th>[2,1000]</th>\n",
              "      <td>0</td>\n",
              "      <td>0</td>\n",
              "      <td>0</td>\n",
              "    </tr>\n",
              "  </tbody>\n",
              "</table>\n",
              "</div>"
            ],
            "text/plain": [
              "          +SR  =SR  -SR\n",
              "[0,250]     0    0    0\n",
              "[1,250]     0    0    0\n",
              "[2,250]     0    0    0\n",
              "[0,500]     0    0    0\n",
              "[1,500]     0    0    0\n",
              "[2,500]     0    0    0\n",
              "[0,1000]    0    0    0\n",
              "[1,1000]    0    0    0\n",
              "[2,1000]    0    0    0"
            ]
          },
          "metadata": {},
          "execution_count": 3
        }
      ]
    },
    {
      "cell_type": "code",
      "metadata": {
        "id": "RlTbaCOhEzRp"
      },
      "source": [
        "a = '[low,250]'\n",
        "c = 23"
      ],
      "execution_count": 4,
      "outputs": []
    },
    {
      "cell_type": "code",
      "metadata": {
        "colab": {
          "base_uri": "https://localhost:8080/"
        },
        "id": "zL91oW2-E2oG",
        "outputId": "8a09e440-3df9-4856-aa45-1143020b1708"
      },
      "source": [
        "print(ast.literal_eval('[0,250]'))"
      ],
      "execution_count": 5,
      "outputs": [
        {
          "output_type": "stream",
          "name": "stdout",
          "text": [
            "[0, 250]\n"
          ]
        }
      ]
    },
    {
      "cell_type": "code",
      "metadata": {
        "colab": {
          "base_uri": "https://localhost:8080/",
          "height": 35
        },
        "id": "GmojGo68NHVm",
        "outputId": "87a8cfd8-8f37-459b-b9ed-868766b8497f"
      },
      "source": [
        " state_transition('[0,500]','-SR')"
      ],
      "execution_count": 6,
      "outputs": [
        {
          "output_type": "execute_result",
          "data": {
            "application/vnd.google.colaboratory.intrinsic+json": {
              "type": "string"
            },
            "text/plain": [
              "'[0,1000]'"
            ]
          },
          "metadata": {},
          "execution_count": 6
        }
      ]
    },
    {
      "cell_type": "code",
      "metadata": {
        "colab": {
          "base_uri": "https://localhost:8080/"
        },
        "id": "B8SAEgoSNane",
        "outputId": "0a49b459-da5f-472e-ff54-cbc1a222f546"
      },
      "source": [
        "for i in range(10):\n",
        "  print(epsilon_greedy_action(Qtable,'[0,500]'))"
      ],
      "execution_count": 7,
      "outputs": [
        {
          "output_type": "stream",
          "name": "stdout",
          "text": [
            "+SR\n",
            "+SR\n",
            "+SR\n",
            "=SR\n",
            "+SR\n",
            "=SR\n",
            "+SR\n",
            "+SR\n",
            "+SR\n",
            "+SR\n"
          ]
        }
      ]
    },
    {
      "cell_type": "code",
      "metadata": {
        "colab": {
          "base_uri": "https://localhost:8080/"
        },
        "id": "93Zm6vjTrqWA",
        "outputId": "e13bf1ee-5c33-4d83-b322-ece21f7f205d"
      },
      "source": [
        "Qtable.loc['[2,500]','+SR']"
      ],
      "execution_count": 8,
      "outputs": [
        {
          "output_type": "execute_result",
          "data": {
            "text/plain": [
              "0"
            ]
          },
          "metadata": {},
          "execution_count": 8
        }
      ]
    },
    {
      "cell_type": "code",
      "metadata": {
        "colab": {
          "base_uri": "https://localhost:8080/"
        },
        "id": "TY3UrFwQnzu4",
        "outputId": "0d2414c3-1590-45ff-a6e6-47835104faf8"
      },
      "source": [
        "compute_reward('[2,500]')"
      ],
      "execution_count": 9,
      "outputs": [
        {
          "output_type": "execute_result",
          "data": {
            "text/plain": [
              "2"
            ]
          },
          "metadata": {},
          "execution_count": 9
        }
      ]
    },
    {
      "cell_type": "markdown",
      "metadata": {
        "id": "NbYbUEWFOJQv"
      },
      "source": [
        "Training"
      ]
    },
    {
      "cell_type": "code",
      "metadata": {
        "id": "DONPo25ZOKj2"
      },
      "source": [
        "def train_on_measurement(curr_state, Qtable,curr_obs,prev_obs, epsilon=0.1,learning_rate=0.9,discount_factor=0.2,th=0.2 ):\n",
        "\n",
        "  newstate = update_state_based_on_quality(curr_state,curr_obs,prev_obs,th)\n",
        "\n",
        "  chosen_action = epsilon_greedy_action(Qtable,newstate,epsilon)\n",
        "\n",
        "  Qtable.loc[newstate,chosen_action] = update_prev_Qtable_cell(Qtable,newstate,chosen_action,learning_rate,discount_factor)\n",
        "\n",
        "  final_state = state_transition(newstate,chosen_action)\n",
        "\n",
        "  return Qtable, final_state\n",
        "\n",
        "\n",
        "\n",
        "\n"
      ],
      "execution_count": 10,
      "outputs": []
    },
    {
      "cell_type": "code",
      "metadata": {
        "colab": {
          "base_uri": "https://localhost:8080/",
          "height": 326
        },
        "id": "O26o0L9Twan2",
        "outputId": "9ad8422d-2f84-4d88-d4f0-8d69d32628c5"
      },
      "source": [
        "Qtable"
      ],
      "execution_count": 11,
      "outputs": [
        {
          "output_type": "execute_result",
          "data": {
            "text/html": [
              "<div>\n",
              "<style scoped>\n",
              "    .dataframe tbody tr th:only-of-type {\n",
              "        vertical-align: middle;\n",
              "    }\n",
              "\n",
              "    .dataframe tbody tr th {\n",
              "        vertical-align: top;\n",
              "    }\n",
              "\n",
              "    .dataframe thead th {\n",
              "        text-align: right;\n",
              "    }\n",
              "</style>\n",
              "<table border=\"1\" class=\"dataframe\">\n",
              "  <thead>\n",
              "    <tr style=\"text-align: right;\">\n",
              "      <th></th>\n",
              "      <th>+SR</th>\n",
              "      <th>=SR</th>\n",
              "      <th>-SR</th>\n",
              "    </tr>\n",
              "  </thead>\n",
              "  <tbody>\n",
              "    <tr>\n",
              "      <th>[0,250]</th>\n",
              "      <td>0</td>\n",
              "      <td>0</td>\n",
              "      <td>0</td>\n",
              "    </tr>\n",
              "    <tr>\n",
              "      <th>[1,250]</th>\n",
              "      <td>0</td>\n",
              "      <td>0</td>\n",
              "      <td>0</td>\n",
              "    </tr>\n",
              "    <tr>\n",
              "      <th>[2,250]</th>\n",
              "      <td>0</td>\n",
              "      <td>0</td>\n",
              "      <td>0</td>\n",
              "    </tr>\n",
              "    <tr>\n",
              "      <th>[0,500]</th>\n",
              "      <td>0</td>\n",
              "      <td>0</td>\n",
              "      <td>0</td>\n",
              "    </tr>\n",
              "    <tr>\n",
              "      <th>[1,500]</th>\n",
              "      <td>0</td>\n",
              "      <td>0</td>\n",
              "      <td>0</td>\n",
              "    </tr>\n",
              "    <tr>\n",
              "      <th>[2,500]</th>\n",
              "      <td>0</td>\n",
              "      <td>0</td>\n",
              "      <td>0</td>\n",
              "    </tr>\n",
              "    <tr>\n",
              "      <th>[0,1000]</th>\n",
              "      <td>0</td>\n",
              "      <td>0</td>\n",
              "      <td>0</td>\n",
              "    </tr>\n",
              "    <tr>\n",
              "      <th>[1,1000]</th>\n",
              "      <td>0</td>\n",
              "      <td>0</td>\n",
              "      <td>0</td>\n",
              "    </tr>\n",
              "    <tr>\n",
              "      <th>[2,1000]</th>\n",
              "      <td>0</td>\n",
              "      <td>0</td>\n",
              "      <td>0</td>\n",
              "    </tr>\n",
              "  </tbody>\n",
              "</table>\n",
              "</div>"
            ],
            "text/plain": [
              "          +SR  =SR  -SR\n",
              "[0,250]     0    0    0\n",
              "[1,250]     0    0    0\n",
              "[2,250]     0    0    0\n",
              "[0,500]     0    0    0\n",
              "[1,500]     0    0    0\n",
              "[2,500]     0    0    0\n",
              "[0,1000]    0    0    0\n",
              "[1,1000]    0    0    0\n",
              "[2,1000]    0    0    0"
            ]
          },
          "metadata": {},
          "execution_count": 11
        }
      ]
    },
    {
      "cell_type": "code",
      "metadata": {
        "id": "RKeU542PvvOf"
      },
      "source": [
        "initial_state = '[2,500]'\n",
        "curr_obs = 0.4\n",
        "prev_obs = 0.35\n",
        "\n",
        "new_Qtable, final_state = train_on_measurement(initial_state, Qtable,curr_obs,prev_obs)"
      ],
      "execution_count": 12,
      "outputs": []
    },
    {
      "cell_type": "code",
      "metadata": {
        "colab": {
          "base_uri": "https://localhost:8080/",
          "height": 326
        },
        "id": "b7hbyyWkxnQW",
        "outputId": "6416242f-8b6a-4d78-fad8-e4b31ef7b21a"
      },
      "source": [
        "new_Qtable"
      ],
      "execution_count": 13,
      "outputs": [
        {
          "output_type": "execute_result",
          "data": {
            "text/html": [
              "<div>\n",
              "<style scoped>\n",
              "    .dataframe tbody tr th:only-of-type {\n",
              "        vertical-align: middle;\n",
              "    }\n",
              "\n",
              "    .dataframe tbody tr th {\n",
              "        vertical-align: top;\n",
              "    }\n",
              "\n",
              "    .dataframe thead th {\n",
              "        text-align: right;\n",
              "    }\n",
              "</style>\n",
              "<table border=\"1\" class=\"dataframe\">\n",
              "  <thead>\n",
              "    <tr style=\"text-align: right;\">\n",
              "      <th></th>\n",
              "      <th>+SR</th>\n",
              "      <th>=SR</th>\n",
              "      <th>-SR</th>\n",
              "    </tr>\n",
              "  </thead>\n",
              "  <tbody>\n",
              "    <tr>\n",
              "      <th>[0,250]</th>\n",
              "      <td>0.0</td>\n",
              "      <td>0</td>\n",
              "      <td>0</td>\n",
              "    </tr>\n",
              "    <tr>\n",
              "      <th>[1,250]</th>\n",
              "      <td>0.0</td>\n",
              "      <td>0</td>\n",
              "      <td>0</td>\n",
              "    </tr>\n",
              "    <tr>\n",
              "      <th>[2,250]</th>\n",
              "      <td>0.0</td>\n",
              "      <td>0</td>\n",
              "      <td>0</td>\n",
              "    </tr>\n",
              "    <tr>\n",
              "      <th>[0,500]</th>\n",
              "      <td>0.0</td>\n",
              "      <td>0</td>\n",
              "      <td>0</td>\n",
              "    </tr>\n",
              "    <tr>\n",
              "      <th>[1,500]</th>\n",
              "      <td>0.0</td>\n",
              "      <td>0</td>\n",
              "      <td>0</td>\n",
              "    </tr>\n",
              "    <tr>\n",
              "      <th>[2,500]</th>\n",
              "      <td>0.9</td>\n",
              "      <td>0</td>\n",
              "      <td>0</td>\n",
              "    </tr>\n",
              "    <tr>\n",
              "      <th>[0,1000]</th>\n",
              "      <td>0.0</td>\n",
              "      <td>0</td>\n",
              "      <td>0</td>\n",
              "    </tr>\n",
              "    <tr>\n",
              "      <th>[1,1000]</th>\n",
              "      <td>0.0</td>\n",
              "      <td>0</td>\n",
              "      <td>0</td>\n",
              "    </tr>\n",
              "    <tr>\n",
              "      <th>[2,1000]</th>\n",
              "      <td>0.0</td>\n",
              "      <td>0</td>\n",
              "      <td>0</td>\n",
              "    </tr>\n",
              "  </tbody>\n",
              "</table>\n",
              "</div>"
            ],
            "text/plain": [
              "          +SR  =SR  -SR\n",
              "[0,250]   0.0    0    0\n",
              "[1,250]   0.0    0    0\n",
              "[2,250]   0.0    0    0\n",
              "[0,500]   0.0    0    0\n",
              "[1,500]   0.0    0    0\n",
              "[2,500]   0.9    0    0\n",
              "[0,1000]  0.0    0    0\n",
              "[1,1000]  0.0    0    0\n",
              "[2,1000]  0.0    0    0"
            ]
          },
          "metadata": {},
          "execution_count": 13
        }
      ]
    },
    {
      "cell_type": "code",
      "metadata": {
        "colab": {
          "base_uri": "https://localhost:8080/",
          "height": 35
        },
        "id": "8aTjPRk8xtSh",
        "outputId": "51b6c2d3-dbc7-47a9-ce1f-3c50c1261d7c"
      },
      "source": [
        "final_state"
      ],
      "execution_count": 14,
      "outputs": [
        {
          "output_type": "execute_result",
          "data": {
            "application/vnd.google.colaboratory.intrinsic+json": {
              "type": "string"
            },
            "text/plain": [
              "'[2,250]'"
            ]
          },
          "metadata": {},
          "execution_count": 14
        }
      ]
    }
  ]
}